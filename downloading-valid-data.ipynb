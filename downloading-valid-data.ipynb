{
 "cells": [
  {
   "cell_type": "code",
   "execution_count": 8,
   "metadata": {},
   "outputs": [
    {
     "name": "stdout",
     "output_type": "stream",
     "text": [
      "Data saved to data/survey-responses/surveyAnswers0807_0827_download.json\n"
     ]
    }
   ],
   "source": [
    "import firebase_admin\n",
    "from firebase_admin import credentials, firestore\n",
    "import json\n",
    "import csv\n",
    "from datetime import datetime \n",
    "\n",
    "# Path to your service account key file\n",
    "service_account_path = 'sidewalk-survey-f7904-firebase-adminsdk-kgf2f-0493a854f1.json'\n",
    "\n",
    "# Check if the Firebase app is already initialized\n",
    "if not firebase_admin._apps:\n",
    "    cred = credentials.Certificate(service_account_path)\n",
    "    firebase_admin.initialize_app(cred)\n",
    "\n",
    "# For Firestore\n",
    "db = firestore.client()\n",
    "\n",
    "# Reference to the collection you want to download data from\n",
    "# collection_name = 'surveyAnswers0727'\n",
    "collection_name = 'surveyAnswers0807'\n",
    "collection_ref = db.collection(collection_name)\n",
    "\n",
    "# Load email addresses from the CSV file\n",
    "email_file_path = 'valid-email-addresses.csv'\n",
    "with open(email_file_path, newline='') as csvfile:\n",
    "    email_reader = csv.reader(csvfile)\n",
    "    email_addresses = [row[0] for row in email_reader]  # Assuming emails are in the first column\n",
    "\n",
    "# Query documents where the email field matches any of the emails from the CSV file\n",
    "data = []\n",
    "for email in email_addresses:\n",
    "    try:\n",
    "        docs = collection_ref.where('email', '==', email).stream()\n",
    "        for doc in docs:\n",
    "            doc_data = doc.to_dict()\n",
    "            # Convert Firestore document data to JSON serializable format\n",
    "            for key, value in doc_data.items():\n",
    "                if isinstance(value, datetime):\n",
    "                    doc_data[key] = value.isoformat()\n",
    "            data.append(doc_data)\n",
    "    except Exception as e:\n",
    "        print(f\"Error accessing Firestore collection for email {email}: {e}\")\n",
    "\n",
    "# Check if data is actually collected\n",
    "if not data:\n",
    "    print(\"No data collected from Firestore.\")\n",
    "\n",
    "# Save data to a JSON file\n",
    "# output_file_path = 'data/survey-responses/surveyAnswers0727_0827_download.json'\n",
    "output_file_path = 'data/survey-responses/surveyAnswers0807_0827_download.json'\n",
    "with open(output_file_path, 'w') as f:\n",
    "    json.dump(data, f)\n",
    "\n",
    "print(f\"Data saved to {output_file_path}\")"
   ]
  }
 ],
 "metadata": {
  "kernelspec": {
   "display_name": "project-sidewalk",
   "language": "python",
   "name": "python3"
  },
  "language_info": {
   "codemirror_mode": {
    "name": "ipython",
    "version": 3
   },
   "file_extension": ".py",
   "mimetype": "text/x-python",
   "name": "python",
   "nbconvert_exporter": "python",
   "pygments_lexer": "ipython3",
   "version": "3.10.6"
  }
 },
 "nbformat": 4,
 "nbformat_minor": 2
}
